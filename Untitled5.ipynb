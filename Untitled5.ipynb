{
  "nbformat": 4,
  "nbformat_minor": 0,
  "metadata": {
    "colab": {
      "provenance": [],
      "authorship_tag": "ABX9TyM4Z0JQ/asnL5iLWZKEgimN",
      "include_colab_link": true
    },
    "kernelspec": {
      "name": "python3",
      "display_name": "Python 3"
    },
    "language_info": {
      "name": "python"
    }
  },
  "cells": [
    {
      "cell_type": "markdown",
      "metadata": {
        "id": "view-in-github",
        "colab_type": "text"
      },
      "source": [
        "<a href=\"https://colab.research.google.com/github/bharath-pypractice/bhanusri/blob/main/Untitled5.ipynb\" target=\"_parent\"><img src=\"https://colab.research.google.com/assets/colab-badge.svg\" alt=\"Open In Colab\"/></a>"
      ]
    },
    {
      "cell_type": "code",
      "execution_count": 1,
      "metadata": {
        "colab": {
          "base_uri": "https://localhost:8080/"
        },
        "id": "i-ZYlPBZjM8u",
        "outputId": "358da0cc-ee96-418d-c881-094fac67f499"
      },
      "outputs": [
        {
          "output_type": "stream",
          "name": "stdout",
          "text": [
            "[[95 11 21]\n",
            " [45 97 93]]\n"
          ]
        }
      ],
      "source": [
        "import numpy as np\n",
        "matrix = np.random.randint(1,100,(2,3))\n",
        "print(matrix)"
      ]
    },
    {
      "cell_type": "code",
      "source": [
        "import numpy as np\n",
        "matrix = np.array([[1, 2, 3],\n",
        "                   [4, 5, 6],\n",
        "                   [7, 8, 9]])\n",
        "print(\"Before slicing:\")\n",
        "print(\"Matrix:\\n\", matrix)\n",
        "print(\"Shape:\", matrix.shape)\n",
        "print(\"Size:\", matrix.size)\n",
        "print(\"Dimensions:\", matrix.ndim)\n",
        "new_matrix = matrix[:2, 1:]\n",
        "print(\"\\nAfter slicing:\")\n",
        "print(\"New Matrix:\\n\", new_matrix)\n"
      ],
      "metadata": {
        "colab": {
          "base_uri": "https://localhost:8080/"
        },
        "id": "O-Zg8iBqnfBm",
        "outputId": "dbfa65a7-752c-404e-e84d-88c042b3bd0e"
      },
      "execution_count": 71,
      "outputs": [
        {
          "output_type": "stream",
          "name": "stdout",
          "text": [
            "Before slicing:\n",
            "Matrix:\n",
            " [[1 2 3]\n",
            " [4 5 6]\n",
            " [7 8 9]]\n",
            "Shape: (3, 3)\n",
            "Size: 9\n",
            "Dimensions: 2\n",
            "\n",
            "After slicing:\n",
            "New Matrix:\n",
            " [[2 3]\n",
            " [5 6]]\n"
          ]
        }
      ]
    },
    {
      "cell_type": "code",
      "source": [
        "import numpy as np\n",
        "import pandas as pd\n",
        "data = {\n",
        "    \"name\":[\"A\",\"B\",\"c\",\"D\"],\n",
        "    \"age\":[18,19,18,np.nan],\n",
        "    \"gender\":[\"male\",\"female\",\"male\",np.nan],\n",
        "    \"result\":[\"p\",\"f\",\"p\",\"f\"],\n",
        "}\n",
        "df = pd.DataFrame(data)\n",
        "print(\"before filling miss values:\\n\",df)\n",
        "df.fillna({\"age\":df[\"age\"].mean(),\"gender\":\"not specified\"},inplace=True)\n",
        "print(\"after filling miss values:\\n\",df)\n"
      ],
      "metadata": {
        "colab": {
          "base_uri": "https://localhost:8080/"
        },
        "id": "MgLOHaa2p8h2",
        "outputId": "39e28b2c-e3b1-45d8-98b8-f9e10eba14b2"
      },
      "execution_count": 72,
      "outputs": [
        {
          "output_type": "stream",
          "name": "stdout",
          "text": [
            "before filling miss values:\n",
            "   name   age  gender result\n",
            "0    A  18.0    male      p\n",
            "1    B  19.0  female      f\n",
            "2    c  18.0    male      p\n",
            "3    D   NaN     NaN      f\n",
            "after filling miss values:\n",
            "   name        age         gender result\n",
            "0    A  18.000000           male      p\n",
            "1    B  19.000000         female      f\n",
            "2    c  18.000000           male      p\n",
            "3    D  18.333333  not specified      f\n"
          ]
        }
      ]
    },
    {
      "cell_type": "code",
      "source": [
        "import pandas as pd\n",
        "import matplotlib.pyplot as plt\n",
        "file_path = (\"/content/set1.csv\")\n",
        "df = pd.read_csv(file_path)\n",
        "print(df)\n",
        "plt.figure(figsize=(8,6))\n",
        "df.boxplot()\n",
        "plt.title(\"uyg\")\n",
        "plt.show()"
      ],
      "metadata": {
        "colab": {
          "base_uri": "https://localhost:8080/",
          "height": 909
        },
        "id": "TtPrJbOFsMV-",
        "outputId": "675f3c10-851a-4c1e-87bc-4d5b30d22918"
      },
      "execution_count": 73,
      "outputs": [
        {
          "output_type": "stream",
          "name": "stdout",
          "text": [
            "    inter_Diploma_percentage  B.Tech_percentage\n",
            "0                       65.3              40.00\n",
            "1                       92.4              92.00\n",
            "2                       68.0              45.26\n",
            "3                       70.4              36.47\n",
            "4                       65.5              42.52\n",
            "5                       68.0              62.20\n",
            "6                       56.5              33.77\n",
            "7                       79.3              83.00\n",
            "8                       89.6              53.00\n",
            "9                       75.5              51.00\n",
            "10                      76.3              71.49\n",
            "11                      66.0              49.67\n",
            "12                      60.3              54.74\n",
            "13                      88.7              85.00\n",
            "14                      52.2              50.55\n",
            "15                      86.0              75.96\n",
            "16                      85.0              70.01\n",
            "17                      95.1              85.39\n",
            "18                      86.3              71.65\n",
            "19                       NaN                NaN\n"
          ]
        },
        {
          "output_type": "display_data",
          "data": {
            "text/plain": [
              "<Figure size 800x600 with 1 Axes>"
            ],
            "image/png": "[encoded data removed]"
          },
          "metadata": {}
        }
      ]
    },
    {
      "cell_type": "code",
      "source": [
        "import numpy as np\n",
        "import pandas as ps\n",
        "arr = np.array([[23,45,16],[19,8,27]])\n",
        "print(\"before sorting:\\n\",arr)\n",
        "sort_arr = np.sort(arr)\n",
        "print(\"after sorting:\\n\",sort_arr)"
      ],
      "metadata": {
        "colab": {
          "base_uri": "https://localhost:8080/"
        },
        "id": "TAq9g1KB6VYp",
        "outputId": "085fcf3e-af37-43fc-b828-554b655d95ab"
      },
      "execution_count": 74,
      "outputs": [
        {
          "output_type": "stream",
          "name": "stdout",
          "text": [
            "before sorting:\n",
            " [[23 45 16]\n",
            " [19  8 27]]\n",
            "after sorting:\n",
            " [[16 23 45]\n",
            " [ 8 19 27]]\n"
          ]
        }
      ]
    },
    {
      "cell_type": "code",
      "source": [
        "import numpy as np\n",
        "import pandas as pd\n",
        "arr1 = np.array([[11,24],[34,45]])\n",
        "arr2 = np.array([[56,89],[96,36]])\n",
        "joined_arr = np.concatenate((arr1,arr2))\n",
        "print(joined_arr)"
      ],
      "metadata": {
        "colab": {
          "base_uri": "https://localhost:8080/"
        },
        "id": "VX7PzPIq7YNv",
        "outputId": "e2b2d707-7b30-42ea-f097-70dac52ee345"
      },
      "execution_count": 75,
      "outputs": [
        {
          "output_type": "stream",
          "name": "stdout",
          "text": [
            "[[11 24]\n",
            " [34 45]\n",
            " [56 89]\n",
            " [96 36]]\n"
          ]
        }
      ]
    },
    {
      "cell_type": "code",
      "source": [
        "import pandas as pd\n",
        "import numpy as np\n",
        "import matplotlib.pyplot as plt\n",
        "from sklearn.preprocessing import LabelEncoder\n",
        "file_path = (\"/content/set2.csv\")\n",
        "df  = pd.read_csv(file_path)\n",
        "label_encoder = LabelEncoder()\n",
        "df['Gender'] = label_encoder.fit_transform(df['Gender'])\n",
        "df['Section'] = label_encoder.fit_transform(df['Section'])\n",
        "print(df)\n"
      ],
      "metadata": {
        "colab": {
          "base_uri": "https://localhost:8080/"
        },
        "id": "MNx-uVgn9HhN",
        "outputId": "0f2173af-2923-48f1-f11b-5f9ee37f0909"
      },
      "execution_count": 76,
      "outputs": [
        {
          "output_type": "stream",
          "name": "stdout",
          "text": [
            "   Roll No  Gender  Section  SSC Percentage\n",
            "0      1.0       1        0            87.3\n",
            "1      2.0       0        0            89.0\n",
            "2      3.0       0        1            67.0\n",
            "3      4.0       1        0            71.0\n",
            "4      NaN       2        2             NaN\n"
          ]
        }
      ]
    },
    {
      "cell_type": "code",
      "source": [
        "import numpy as pd\n",
        "import pandas as pd\n",
        "arr = np.linspace(1,100,10)\n",
        "print(arr)"
      ],
      "metadata": {
        "colab": {
          "base_uri": "https://localhost:8080/"
        },
        "id": "YA21xdjO_GJE",
        "outputId": "37f49e19-144f-4cbf-ce08-175c99d9515e"
      },
      "execution_count": 77,
      "outputs": [
        {
          "output_type": "stream",
          "name": "stdout",
          "text": [
            "[  1.  12.  23.  34.  45.  56.  67.  78.  89. 100.]\n"
          ]
        }
      ]
    },
    {
      "cell_type": "code",
      "source": [
        "import numpy as np\n",
        "import pandas as pd\n",
        "arr = np.array([[1,2],[3,4]])\n",
        "arr_new = arr+10\n",
        "print(arr_new)"
      ],
      "metadata": {
        "colab": {
          "base_uri": "https://localhost:8080/"
        },
        "id": "OWVjSPcj__ug",
        "outputId": "86cdbcf5-11c1-49b5-fd8b-e0f88ab8e102"
      },
      "execution_count": 78,
      "outputs": [
        {
          "output_type": "stream",
          "name": "stdout",
          "text": [
            "[[11 12]\n",
            " [13 14]]\n"
          ]
        }
      ]
    },
    {
      "cell_type": "code",
      "source": [
        "import numpy as np\n",
        "import pandas as pd\n",
        "data = {\n",
        "    \"roll_no\":[1,2,3,4],\n",
        "    \"gender\":[\"m\",\"f\",\"f\",\"m\"],\n",
        "    \"section\":[\"a\",\"a\",\"b\",\"a\"],\n",
        "    \"scc_persentage\":[87.3,89,67,71]\n",
        "}\n",
        "df = pd.DataFrame(data)\n",
        "df.to_pickle(\"data.pkl\")\n",
        "df_new = pd.read_pickle(\"data.pkl\")\n",
        "print(df_new)"
      ],
      "metadata": {
        "colab": {
          "base_uri": "https://localhost:8080/"
        },
        "id": "etbyEOeKAXER",
        "outputId": "54e351c4-397c-47c5-a546-46ade9a0ccb1"
      },
      "execution_count": 79,
      "outputs": [
        {
          "output_type": "stream",
          "name": "stdout",
          "text": [
            "   roll_no gender section  scc_persentage\n",
            "0        1      m       a            87.3\n",
            "1        2      f       a            89.0\n",
            "2        3      f       b            67.0\n",
            "3        4      m       a            71.0\n"
          ]
        }
      ]
    },
    {
      "cell_type": "code",
      "source": [
        "import pandas as pd\n",
        "import matplotlib.pyplot as plt\n",
        "file_path = \"/content/set3excel.xlsx\"  # Replace with your actual file path\n",
        "df = pd.read_excel(file_path)\n",
        "plt.figure(figsize=(8,5))\n",
        "plt.plot(df[\"Date\"], df[\"Closing Price (INR)\"], marker='o', color='b')\n",
        "plt.xlabel(\"Date\")\n",
        "plt.ylabel(\"Closing Price (INR)\")\n",
        "plt.title(\"Stock Closing Prices Over Time\")\n",
        "plt.xticks(rotation=45)  # Rotate dates for better visibility\n",
        "plt.grid(True)\n",
        "plt.show()\n"
      ],
      "metadata": {
        "colab": {
          "base_uri": "https://localhost:8080/",
          "height": 540
        },
        "id": "RtoqnTtkCYwp",
        "outputId": "02c5938f-3d3c-4f9b-cefb-38f7f4b29066"
      },
      "execution_count": 80,
      "outputs": [
        {
          "output_type": "display_data",
          "data": {
            "text/plain": [
              "<Figure size 800x500 with 1 Axes>"
            ],
            "image/png": "[encoded data removed]"
          },
          "metadata": {}
        }
      ]
    },
    {
      "cell_type": "code",
      "source": [
        "import pandas as pd\n",
        "import numpy as np\n",
        "arr = np.array([[1,2,3],[4,5,6]])\n",
        "ex_arra = np.vstack([arr,[6,7,8]])\n",
        "print(ex_arra)"
      ],
      "metadata": {
        "colab": {
          "base_uri": "https://localhost:8080/"
        },
        "id": "q-u1rQElGN_G",
        "outputId": "4a73242f-1aae-4232-8491-de266a747300"
      },
      "execution_count": 81,
      "outputs": [
        {
          "output_type": "stream",
          "name": "stdout",
          "text": [
            "[[1 2 3]\n",
            " [4 5 6]\n",
            " [6 7 8]]\n"
          ]
        }
      ]
    },
    {
      "cell_type": "code",
      "source": [
        "import pandas as pd\n",
        "import numpy as np\n",
        "data = {\n",
        "    \"roll_no\":[2,3,8,9],\n",
        "    \"grnder\":[\"m\",\"f\",None,\"f\"],\n",
        "    \"section\":[\"a\",\"b\",\"c\",\"a\"]\n",
        "}\n",
        "df = pd.DataFrame(data)\n",
        "df.fillna({\"grnder\":\"Unknow\"},inplace=True)\n",
        "print(df)"
      ],
      "metadata": {
        "colab": {
          "base_uri": "https://localhost:8080/"
        },
        "id": "vp92F7XtGzZz",
        "outputId": "4f19c72a-9ac6-4d0d-f2ce-11e2896138d6"
      },
      "execution_count": 82,
      "outputs": [
        {
          "output_type": "stream",
          "name": "stdout",
          "text": [
            "   roll_no  grnder section\n",
            "0        2       m       a\n",
            "1        3       f       b\n",
            "2        8  Unknow       c\n",
            "3        9       f       a\n"
          ]
        }
      ]
    },
    {
      "cell_type": "code",
      "source": [
        "import nltk\n",
        "from nltk.tokenize import word_tokenize, sent_tokenize\n",
        "\n",
        "# Download the necessary data package\n",
        "nltk.download('punkt_tab')\n",
        "\n",
        "text = \"Hello! I have a lab internal exam on Monday. Train me well.\"\n",
        "words = word_tokenize(text)\n",
        "sentences = sent_tokenize(text)\n",
        "print(\"Word Tokens:\", words)\n",
        "print(\"Sentence Tokens:\", sentences)\n"
      ],
      "metadata": {
        "colab": {
          "base_uri": "https://localhost:8080/"
        },
        "id": "IJMQcsooH5Gq",
        "outputId": "d3360043-73e3-4505-c717-ad7f10653bfb"
      },
      "execution_count": 83,
      "outputs": [
        {
          "output_type": "stream",
          "name": "stdout",
          "text": [
            "Word Tokens: ['Hello', '!', 'I', 'have', 'a', 'lab', 'internal', 'exam', 'on', 'Monday', '.', 'Train', 'me', 'well', '.']\n",
            "Sentence Tokens: ['Hello!', 'I have a lab internal exam on Monday.', 'Train me well.']\n"
          ]
        },
        {
          "output_type": "stream",
          "name": "stderr",
          "text": [
            "[nltk_data] Downloading package punkt_tab to /root/nltk_data...\n",
            "[nltk_data]   Package punkt_tab is already up-to-date!\n"
          ]
        }
      ]
    },
    {
      "cell_type": "code",
      "source": [
        "import numpy as np\n",
        "arr = np.array([0,10,20,30,40])\n",
        "new_arr = arr[2:]\n",
        "print(new_arr)"
      ],
      "metadata": {
        "colab": {
          "base_uri": "https://localhost:8080/"
        },
        "id": "85NW3GQUJtRS",
        "outputId": "6ca7329c-a3b4-4145-8a43-50159eaeb744"
      },
      "execution_count": 84,
      "outputs": [
        {
          "output_type": "stream",
          "name": "stdout",
          "text": [
            "[20 30 40]\n"
          ]
        }
      ]
    },
    {
      "cell_type": "code",
      "source": [
        "import numpy as np\n",
        "arr = np.array([[1,2,7],[3,4,8]])\n",
        "new_arr = arr.T\n",
        "print(new_arr)"
      ],
      "metadata": {
        "colab": {
          "base_uri": "https://localhost:8080/"
        },
        "id": "lEei7mA8KC9_",
        "outputId": "2e205a53-263a-411b-ad74-8a7520dc975d"
      },
      "execution_count": 85,
      "outputs": [
        {
          "output_type": "stream",
          "name": "stdout",
          "text": [
            "[[1 3]\n",
            " [2 4]\n",
            " [7 8]]\n"
          ]
        }
      ]
    },
    {
      "cell_type": "code",
      "source": [],
      "metadata": {
        "id": "sApsCReQWvOz"
      },
      "execution_count": 85,
      "outputs": []
    },
    {
      "cell_type": "code",
      "source": [
        "import pandas as pd\n",
        "import matplotlib.pyplot as plt\n",
        "file_path = (\"/content/set5csv.csv\")\n",
        "df = pd.read_csv(file_path)\n",
        "plt.figure(figsize=(8,6))\n",
        "plt.hist(df[\"B.Tech_percentage\"],color='blue',edgecolor='black')\n",
        "plt.show()"
      ],
      "metadata": {
        "colab": {
          "base_uri": "https://localhost:8080/",
          "height": 522
        },
        "id": "yDIRTET5LarO",
        "outputId": "afe4d0c2-3898-4799-cafc-4fe09db753d2"
      },
      "execution_count": 86,
      "outputs": [
        {
          "output_type": "display_data",
          "data": {
            "text/plain": [
              "<Figure size 800x600 with 1 Axes>"
            ],
            "image/png": "[encoded data removed]"
          },
          "metadata": {}
        }
      ]
    },
    {
      "cell_type": "code",
      "source": [
        "import pandas as ps\n",
        "import glob\n",
        "files_paths = glob.glob(\"*.txt\")\n",
        "data = []\n",
        "for file in files_paths:\n",
        "  with open(file,\"r\") as f:\n",
        "    content = f.read()\n",
        "    data.append({\"filename\":file,\"content\":content})\n",
        "    df = pd.DataFrame(data)\n",
        "    print(df)"
      ],
      "metadata": {
        "colab": {
          "base_uri": "https://localhost:8080/"
        },
        "id": "0fkBYWrrWy_T",
        "outputId": "8fee67e2-17a2-4101-d4ea-a5eadb8a8dec"
      },
      "execution_count": 88,
      "outputs": [
        {
          "output_type": "stream",
          "name": "stdout",
          "text": [
            "    filename                                 content\n",
            "0  file2.txt  I am happy to be part of this college.\n",
            "    filename                                            content\n",
            "0  file2.txt             I am happy to be part of this college.\n",
            "1   file.txt  Currently pursuing B.tech second year in AI & ...\n",
            "    filename                                            content\n",
            "0  file2.txt             I am happy to be part of this college.\n",
            "1   file.txt  Currently pursuing B.tech second year in AI & ...\n",
            "2  file3.txt          Our college is having very good ambience.\n"
          ]
        }
      ]
    },
    {
      "cell_type": "code",
      "source": [
        "import numpy as np\n",
        "arr = np.array([[[1,2,3],[4,5,6],[7,8,9]]])\n",
        "print(arr)\n",
        "seq = np.squeeze(arr)\n",
        "print(seq)"
      ],
      "metadata": {
        "colab": {
          "base_uri": "https://localhost:8080/"
        },
        "id": "NW4obAa7caaI",
        "outputId": "4752b0ab-ce83-4e5e-9903-d198248edc75"
      },
      "execution_count": 92,
      "outputs": [
        {
          "output_type": "stream",
          "name": "stdout",
          "text": [
            "[[[1 2 3]\n",
            "  [4 5 6]\n",
            "  [7 8 9]]]\n",
            "[[1 2 3]\n",
            " [4 5 6]\n",
            " [7 8 9]]\n"
          ]
        }
      ]
    },
    {
      "cell_type": "code",
      "source": [
        "import pandas as pd\n",
        "data = {\n",
        "    \"Roll No\": [1, 2, 3, 4],\n",
        "    \"Gender\": [\"M\", \"F\", \"M\", \"M\"],\n",
        "    \"SSC Percentage\": [87.3, 89, 67, 71],\n",
        "    \"Inter_Diploma_Percentage\": [65.3, 92.4, 68, 70.4]\n",
        "}\n",
        "df = pd.DataFrame(data)\n",
        "grouped_df = df.groupby(\"Gender\").mean()\n",
        "print(grouped_df)"
      ],
      "metadata": {
        "colab": {
          "base_uri": "https://localhost:8080/"
        },
        "id": "eM7lCOnkdGZZ",
        "outputId": "ad31b895-9de6-4244-9aa0-5242c3bcaaf3"
      },
      "execution_count": 96,
      "outputs": [
        {
          "output_type": "stream",
          "name": "stdout",
          "text": [
            "         Roll No  SSC Percentage  Inter_Diploma_Percentage\n",
            "Gender                                                    \n",
            "F       2.000000            89.0                      92.4\n",
            "M       2.666667            75.1                      67.9\n"
          ]
        }
      ]
    },
    {
      "cell_type": "code",
      "source": [
        "import pandas as pd\n",
        "df = pd.DataFrame({\n",
        "    \"Roll No\": [1, 2, 3, 4],\n",
        "    \"Gender\": [\"M\", \"F\", \"F\", \"M\"],\n",
        "    \"Section\": [\"A\", \"C\", \"B\", \"A\"],\n",
        "    \"SSC Percentage\": [87.3, 89, 67, 71]\n",
        "})\n",
        "df.to_json(\"data.json\",index=4)\n",
        "df = pd.read_json(\"data.json\")\n",
        "print(df)"
      ],
      "metadata": {
        "colab": {
          "base_uri": "https://localhost:8080/"
        },
        "id": "truCc8VNeJb2",
        "outputId": "1ccda7ca-91e6-47d5-e984-caf84bec9144"
      },
      "execution_count": 100,
      "outputs": [
        {
          "output_type": "stream",
          "name": "stdout",
          "text": [
            "   Roll No Gender Section  SSC Percentage\n",
            "0        1      M       A            87.3\n",
            "1        2      F       C            89.0\n",
            "2        3      F       B            67.0\n",
            "3        4      M       A            71.0\n"
          ]
        }
      ]
    },
    {
      "cell_type": "code",
      "source": [
        "import pandas as pd\n",
        "import numpy as np\n",
        "from nltk.tokenize import word_tokenize, sent_tokenize\n",
        "from nltk.corpus import stopwords\n",
        "nltk.download('stopwords')\n",
        "nltk.download('punkt')\n",
        "text = \"Hello! I have a lab internal exam on Monday. Train me well.\"\n",
        "words = word_tokenize(text)\n",
        "print(words)\n",
        "stop_w = set(stopwords.words(\"english\"))\n",
        "filtered_words = [word for word in words if word.lower() not in stop_w]\n",
        "print(filtered_words)\n",
        "\n"
      ],
      "metadata": {
        "colab": {
          "base_uri": "https://localhost:8080/"
        },
        "id": "6UZ6ozzBe_R2",
        "outputId": "e1c88f46-3b78-480d-e102-377d8bbbd617"
      },
      "execution_count": 106,
      "outputs": [
        {
          "output_type": "stream",
          "name": "stdout",
          "text": [
            "['Hello', '!', 'I', 'have', 'a', 'lab', 'internal', 'exam', 'on', 'Monday', '.', 'Train', 'me', 'well', '.']\n",
            "['Hello', '!', 'lab', 'internal', 'exam', 'Monday', '.', 'Train', 'well', '.']\n"
          ]
        },
        {
          "output_type": "stream",
          "name": "stderr",
          "text": [
            "[nltk_data] Downloading package stopwords to /root/nltk_data...\n",
            "[nltk_data]   Package stopwords is already up-to-date!\n",
            "[nltk_data] Downloading package punkt to /root/nltk_data...\n",
            "[nltk_data]   Package punkt is already up-to-date!\n"
          ]
        }
      ]
    },
    {
      "cell_type": "code",
      "source": [
        "import numpy as np\n",
        "zero = np.zeros((2,3))\n",
        "print(zero)\n",
        "ones = np.ones((2,3))\n",
        "print(ones)"
      ],
      "metadata": {
        "colab": {
          "base_uri": "https://localhost:8080/"
        },
        "id": "d6KnEnfEhC_L",
        "outputId": "cd063062-86ce-46a5-e854-66f2c0dcee96"
      },
      "execution_count": 110,
      "outputs": [
        {
          "output_type": "stream",
          "name": "stdout",
          "text": [
            "[[0. 0. 0.]\n",
            " [0. 0. 0.]]\n",
            "[[1. 1. 1.]\n",
            " [1. 1. 1.]]\n"
          ]
        }
      ]
    },
    {
      "cell_type": "code",
      "source": [
        "import numpy as np\n",
        "import pandas as ps\n",
        "data = {\n",
        "    \"inter_Diploma_percentage\":[65,92,98,70,65,68,56],\n",
        "    \"B.Tech_percentage\":[40,92,45,36,42,62,33]\n",
        "}\n",
        "df = pd.DataFrame(data)\n",
        "df[\"inter_Diploma_percentage\"] = df[\"inter_Diploma_percentage\"] - df[\"inter_Diploma_percentage\"].mean()/df[\"inter_Diploma_percentage\"].std()\n",
        "df[\"B.Tech_percentage\"] = df[\"B.Tech_percentage\"] - df[\"B.Tech_percentage\"].mean()/df[\"B.Tech_percentage\"].std()\n",
        "print(df)\n"
      ],
      "metadata": {
        "colab": {
          "base_uri": "https://localhost:8080/"
        },
        "id": "7G9JSEh4l94Z",
        "outputId": "9b7375ff-eda4-40d1-f45c-2a8e0cfa66ed"
      },
      "execution_count": 112,
      "outputs": [
        {
          "output_type": "stream",
          "name": "stdout",
          "text": [
            "   inter_Diploma_percentage  B.Tech_percentage\n",
            "0                 60.253137           37.58972\n",
            "1                 87.253137           89.58972\n",
            "2                 93.253137           42.58972\n",
            "3                 65.253137           33.58972\n",
            "4                 60.253137           39.58972\n",
            "5                 63.253137           59.58972\n",
            "6                 51.253137           30.58972\n"
          ]
        }
      ]
    },
    {
      "cell_type": "code",
      "source": [
        "import numpy as np\n",
        "import pandas as pd\n",
        "A = np.array([[1,2],[2,3]])\n",
        "B = np.array([[4,5],[6,7]])\n",
        "v_stack = np.vstack((A,B))\n",
        "h_stack = np.hstack((A,B))\n",
        "print(v_stack)\n",
        "print(h_stack)"
      ],
      "metadata": {
        "colab": {
          "base_uri": "https://localhost:8080/"
        },
        "id": "4M_I-K-TnbuM",
        "outputId": "1011339f-ae73-4c34-e651-8b742138f7a8"
      },
      "execution_count": 114,
      "outputs": [
        {
          "output_type": "stream",
          "name": "stdout",
          "text": [
            "[[1 2]\n",
            " [2 3]\n",
            " [4 5]\n",
            " [6 7]]\n",
            "[[1 2 4 5]\n",
            " [2 3 6 7]]\n"
          ]
        }
      ]
    },
    {
      "cell_type": "code",
      "source": [
        "import pandas as pd\n",
        "df1 = pd.DataFrame({\n",
        "    'Roll No': [1, 2, 3, 4],\n",
        "    'Gender': ['M', 'F', 'M', 'M'],\n",
        "    'SSC Percentage': [87.3, 89, 67, 71],\n",
        "    'inter_Diploma_percentage': [65.3, 92.4, 68, 70.4]\n",
        "})\n",
        "df2 = pd.DataFrame({\n",
        "    'Roll No': [1, 2, 3, 4],\n",
        "    'Gender': ['M', 'F', 'M', 'M'],\n",
        "    'SSC Percentage': [78, 70, 89, 85],\n",
        "    'inter_Diploma_percentage': [80, 78, 95, 90]\n",
        "})\n",
        "combine = pd.concat([df1,df2])\n",
        "print(combine)"
      ],
      "metadata": {
        "colab": {
          "base_uri": "https://localhost:8080/"
        },
        "id": "UltPDSHtoUEC",
        "outputId": "94a559b1-ef8e-4328-9366-b24214af286d"
      },
      "execution_count": 116,
      "outputs": [
        {
          "output_type": "stream",
          "name": "stdout",
          "text": [
            "   Roll No Gender  SSC Percentage  inter_Diploma_percentage\n",
            "0        1      M            87.3                      65.3\n",
            "1        2      F            89.0                      92.4\n",
            "2        3      M            67.0                      68.0\n",
            "3        4      M            71.0                      70.4\n",
            "0        1      M            78.0                      80.0\n",
            "1        2      F            70.0                      78.0\n",
            "2        3      M            89.0                      95.0\n",
            "3        4      M            85.0                      90.0\n"
          ]
        }
      ]
    },
    {
      "cell_type": "code",
      "source": [
        "import pandas as pd\n",
        "import numpy as np\n",
        "import  matplotlib.pyplot as plt\n",
        "data = {\n",
        "    \"inter_Diploma_percentage\": [65.3, 92.4, 68, 70.4, 65.5, 68, 56.5, 79.3, 89.6, 75.5, 76.3, 66, 60.3, 88.7, 52.2, 86],\n",
        "    \"B.Tech_percentage\": [40, 92, 45.26, 36.47, 42.52, 62.2, 33.77, 83, 53, 51, 71.49, 49.67, 54.74, 85, 50.55, 75.96]\n",
        "}\n",
        "plt.figure(figsize=(8,6))\n",
        "plt.scatter(data[\"inter_Diploma_percentage\"],data[\"B.Tech_percentage\"])\n",
        "plt.xlabel(\"inter_Diploma_percentage\")\n",
        "plt.ylabel(\"B.Tech_percentage\")\n",
        "plt.title(\"Scatter Plot\")\n",
        "plt.show()\n"
      ],
      "metadata": {
        "colab": {
          "base_uri": "https://localhost:8080/",
          "height": 564
        },
        "id": "yaV_m1sHoliu",
        "outputId": "8086a9cf-c33b-4dd9-d35a-577e2a032f0b"
      },
      "execution_count": 118,
      "outputs": [
        {
          "output_type": "display_data",
          "data": {
            "text/plain": [
              "<Figure size 800x600 with 1 Axes>"
            ],
            "image/png": "[encoded data removed]"
          },
          "metadata": {}
        }
      ]
    },
    {
      "cell_type": "code",
      "source": [
        "import glob\n",
        "from PIL import Image\n",
        "img = glob.glob(\"/content/BHANU SRI ECET PHOTO.png\")\n",
        "for imgs in img:\n",
        "  pic = Image.open(imgs)\n",
        "  display(pic)"
      ],
      "metadata": {
        "colab": {
          "base_uri": "https://localhost:8080/",
          "height": 210
        },
        "id": "FDjHYQLvqFQ8",
        "outputId": "1fdaae1b-b898-4a00-d4c9-3d6b9c1d37c1"
      },
      "execution_count": 129,
      "outputs": [
        {
          "output_type": "display_data",
          "data": {
            "text/plain": [
              "<PIL.PngImagePlugin.PngImageFile image mode=RGBA size=177x193>"
            ],
            "image/png": "[encoded data removed]"
          },
          "metadata": {}
        }
      ]
    },
    {
      "cell_type": "code",
      "source": [
        "import numpy as np\n",
        "arr = np.array([[[1,0,0],[0,1,0],[0,0,1]]])\n",
        "print(arr)"
      ],
      "metadata": {
        "colab": {
          "base_uri": "https://localhost:8080/"
        },
        "id": "xGoMAzlsrDoU",
        "outputId": "f48a9885-f6ed-4d0b-b32d-bfa979578591"
      },
      "execution_count": 122,
      "outputs": [
        {
          "output_type": "stream",
          "name": "stdout",
          "text": [
            "[[[1 0 0]\n",
            "  [0 1 0]\n",
            "  [0 0 1]]]\n"
          ]
        }
      ]
    },
    {
      "cell_type": "code",
      "source": [
        "import numpy as np\n",
        "arr1 = np.array([[1,2],[3,4]])\n",
        "arr2 = np.array([[5,6],[7,8]])\n",
        "arr3 = np.concatenate((arr1,arr2))\n",
        "print(arr3)"
      ],
      "metadata": {
        "colab": {
          "base_uri": "https://localhost:8080/"
        },
        "id": "ZPlXo1qErybO",
        "outputId": "2c55dece-d160-4f5d-d0cb-c61846b5805a"
      },
      "execution_count": 124,
      "outputs": [
        {
          "output_type": "stream",
          "name": "stdout",
          "text": [
            "[[1 2]\n",
            " [3 4]\n",
            " [5 6]\n",
            " [7 8]]\n"
          ]
        }
      ]
    },
    {
      "cell_type": "code",
      "source": [
        "import pandas as pd\n",
        "\n",
        "data = {\n",
        "    \"Roll No\": [1, 2, 3, 4],\n",
        "    \"Gender\": [\"M\", \"F\", \"M\", \"M\"],\n",
        "    \"SSC Percentage\": [87.3, 89, 67, 71],\n",
        "    \"inter_Diploma_percentage\": [65.3, 92.4, 68, 70.4]\n",
        "}\n",
        "df = pd.DataFrame(data)\n",
        "df[\"VIT\"] = \"Vishnu Institute of Technology\"\n",
        "filtered_df = df[df[\"SSC Percentage\"] > 70]\n",
        "print(filtered_df)"
      ],
      "metadata": {
        "colab": {
          "base_uri": "https://localhost:8080/"
        },
        "id": "HN8MghIZs_Tw",
        "outputId": "6a146ed8-a98f-4675-e002-57f7ee3eb598"
      },
      "execution_count": 128,
      "outputs": [
        {
          "output_type": "stream",
          "name": "stdout",
          "text": [
            "   Roll No Gender  SSC Percentage  inter_Diploma_percentage  \\\n",
            "0        1      M            87.3                      65.3   \n",
            "1        2      F            89.0                      92.4   \n",
            "3        4      M            71.0                      70.4   \n",
            "\n",
            "                              VIT  \n",
            "0  Vishnu Institute of Technology  \n",
            "1  Vishnu Institute of Technology  \n",
            "3  Vishnu Institute of Technology  \n"
          ]
        }
      ]
    },
    {
      "cell_type": "code",
      "source": [
        "import numpy as np\n",
        "import glob\n",
        "csv = glob.glob(\"*.csv\")\n",
        "for csvs in csv:\n",
        "  df = pd.read_csv(csvs)\n",
        "  print(data)\n"
      ],
      "metadata": {
        "colab": {
          "base_uri": "https://localhost:8080/"
        },
        "id": "4Zwpd5Pxt7nZ",
        "outputId": "c72635c2-0af2-4b69-84a9-5584d8fa402c"
      },
      "execution_count": 134,
      "outputs": [
        {
          "output_type": "stream",
          "name": "stdout",
          "text": [
            "{'Roll No': [1, 2, 3, 4], 'Gender': ['M', 'F', 'M', 'M'], 'SSC Percentage': [87.3, 89, 67, 71], 'inter_Diploma_percentage': [65.3, 92.4, 68, 70.4]}\n",
            "{'Roll No': [1, 2, 3, 4], 'Gender': ['M', 'F', 'M', 'M'], 'SSC Percentage': [87.3, 89, 67, 71], 'inter_Diploma_percentage': [65.3, 92.4, 68, 70.4]}\n",
            "{'Roll No': [1, 2, 3, 4], 'Gender': ['M', 'F', 'M', 'M'], 'SSC Percentage': [87.3, 89, 67, 71], 'inter_Diploma_percentage': [65.3, 92.4, 68, 70.4]}\n"
          ]
        }
      ]
    },
    {
      "cell_type": "code",
      "source": [
        "import numpy as np\n",
        "arr = np.array([[[1, 2], [3, 4]], [[5, 16], [17, 8]], [[9, 10], [21, 12]]])\n",
        "print(arr)\n",
        "sliced_arr = arr[1:3, 0:2, 1]\n",
        "print(sliced_arr)"
      ],
      "metadata": {
        "colab": {
          "base_uri": "https://localhost:8080/"
        },
        "id": "kJok5gSgwdQu",
        "outputId": "f9b5c4a4-349d-46ba-c0ed-ad514cae26ca"
      },
      "execution_count": 144,
      "outputs": [
        {
          "output_type": "stream",
          "name": "stdout",
          "text": [
            "[[[ 1  2]\n",
            "  [ 3  4]]\n",
            "\n",
            " [[ 5 16]\n",
            "  [17  8]]\n",
            "\n",
            " [[ 9 10]\n",
            "  [21 12]]]\n",
            "[[16  8]\n",
            " [10 12]]\n"
          ]
        }
      ]
    }
  ]
}